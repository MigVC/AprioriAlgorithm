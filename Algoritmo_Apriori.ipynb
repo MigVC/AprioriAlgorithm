{
  "nbformat": 4,
  "nbformat_minor": 0,
  "metadata": {
    "colab": {
      "name": "Algoritmo Apriori.ipynb",
      "provenance": [],
      "collapsed_sections": []
    },
    "kernelspec": {
      "name": "python3",
      "display_name": "Python 3"
    },
    "language_info": {
      "name": "python"
    }
  },
  "cells": [
    {
      "cell_type": "markdown",
      "source": [
        "# Algoritmo Apriori\n",
        "Propuesto por Agrawal y Srikant en 1994. Este tiene como objetivo encontrar itemsets frecuentes dentro de una base de datos y generar reglas de asociación bajo determinados umbrales de soporte y confianza.\n",
        "\n",
        "Autores:\n",
        "- Espinoza Champi Israel Enrique\n",
        "- Vilcahuaman Caceres Miguel"
      ],
      "metadata": {
        "id": "wnGKnJbkqiDF"
      }
    },
    {
      "cell_type": "markdown",
      "source": [
        "## Librerías necesarias"
      ],
      "metadata": {
        "id": "5Z_AqSR_wsRV"
      }
    },
    {
      "cell_type": "code",
      "source": [
        "import itertools # combinaciones y permutaciones\n",
        "import numpy as np # leer el dataset\n",
        "import pandas as pd # mostrar los resultados"
      ],
      "metadata": {
        "id": "WXEfcBdmqhYP"
      },
      "execution_count": 1,
      "outputs": []
    },
    {
      "cell_type": "markdown",
      "source": [
        "## Base de datos\n",
        "La base de datos a utilizar corresponde a múltiples playlists de la plataforma spotify creadas\n",
        "por usuarios de esta."
      ],
      "metadata": {
        "id": "sCXKAr9dwzyK"
      }
    },
    {
      "cell_type": "code",
      "source": [
        "# cargamos la base de datos\n",
        "load = np.load('spotify.npy', allow_pickle = True)\n",
        "trans_dic = load.tolist()\n",
        "trans = list(trans_dic.values())\n",
        "#trans = load.tolist()"
      ],
      "metadata": {
        "id": "mPEzpO9-wxVe"
      },
      "execution_count": 2,
      "outputs": []
    },
    {
      "cell_type": "code",
      "source": [
        "# variables globales\n",
        "data = sorted(trans, key=lambda x:len(x)) # ordenado por longitud de sublistas\n",
        "total_trans = len(data) # total de transacciones\n",
        "dic_support = dict() # diccionario de supports\n",
        "it_cont = 0 # desde donde iterar, ignorando subconjuntos de menor tamaño"
      ],
      "metadata": {
        "id": "QFiplHELzWbz"
      },
      "execution_count": 3,
      "outputs": []
    },
    {
      "cell_type": "markdown",
      "source": [
        "## Funciones "
      ],
      "metadata": {
        "id": "uoptyzmpx40m"
      }
    },
    {
      "cell_type": "markdown",
      "source": [
        "Función **getListItems**\n",
        "\n",
        "Parámetros:\n",
        "- data: lista de listas\n",
        "\n",
        "Salida:\n",
        "- lista con valores únicos de todas las listas de data"
      ],
      "metadata": {
        "id": "rUH2HLvpyPGl"
      }
    },
    {
      "cell_type": "code",
      "source": [
        "# obtener todos los items diferentes de data\n",
        "def getListItems(data):\n",
        "\tlist_items = set()\n",
        "\tfor list_ in data:\n",
        "\t\tlist_items = list_items | set(list_)\n",
        "\treturn list(list_items)"
      ],
      "metadata": {
        "id": "OwZkDy7Ix2TE"
      },
      "execution_count": 4,
      "outputs": []
    },
    {
      "cell_type": "markdown",
      "source": [
        "Función **first_items**\n",
        "\n",
        "Parámetros:\n",
        "- min_support: el minimo soporte que debe tener cada primer candidato\n",
        "\n",
        "Salida:\n",
        "- arreglo de los primeros candidatos"
      ],
      "metadata": {
        "id": "pshFHLvaCNGu"
      }
    },
    {
      "cell_type": "code",
      "source": [
        "# primeros candidatos\n",
        "def first_items(min_support):\n",
        "    dic_t = dict()\n",
        "    # contamos el total de apariciones de cada item\n",
        "    for itemset in data:\n",
        "        for item in itemset:\n",
        "            if item not in dic_t: dic_t[item] = 1\n",
        "            else: dic_t[item] += 1\n",
        "    first = []\n",
        "    for item in dic_t: \n",
        "        # agregamos los items que alcanzan el support al diccionario\n",
        "        supp = dic_t[item]/total_trans\n",
        "        if supp >= min_support:\n",
        "            first.append([item])\n",
        "            dic_support[str(set([item]))] = round(supp, 4)\n",
        "    return first"
      ],
      "metadata": {
        "id": "ydHxdptmAkhi"
      },
      "execution_count": 12,
      "outputs": []
    },
    {
      "cell_type": "markdown",
      "source": [
        "Función **powerSet**\n",
        "\n",
        "Parámetros:\n",
        "- c: lista de items\n",
        "\n",
        "Salida:\n",
        "- conjunto potencia de c"
      ],
      "metadata": {
        "id": "gyMBKT-Vywps"
      }
    },
    {
      "cell_type": "code",
      "source": [
        "def powerSet(c):\n",
        "    #Calcula y devuelve el conjunto potencia del conjunto c.\n",
        "    if len(c) == 0:\n",
        "        return [[]]\n",
        "    r = powerSet(c[:-1])\n",
        "    return r + [s + [c[-1]] for s in r]"
      ],
      "metadata": {
        "id": "V2lAMapozAcb"
      },
      "execution_count": 6,
      "outputs": []
    },
    {
      "cell_type": "markdown",
      "source": [
        "Función **support**\n",
        "\n",
        "Parametros:\n",
        "- sub_set: subconjunto de items\n",
        "\n",
        "Salida:\n",
        "- Usa las variables globales de: `dic_support` para verificar si ya se calculó el support de `sub_set`, si no itera las transacciones desde `it_cont`, almacena y retorna el support de `sub_set`\n",
        "\n"
      ],
      "metadata": {
        "id": "OPL1_jBtzOHE"
      }
    },
    {
      "cell_type": "code",
      "source": [
        "# retorna el support de un subconjunto\n",
        "def support(sub_set):\n",
        "\tsub_set = set(sub_set)\n",
        "\t# buscamos en el diccionario\n",
        "\tif(str(sub_set) not in dic_support):\n",
        "\t\tcont = 0\n",
        "\t\tfor k in range(it_cont,total_trans):\n",
        "\t\t\tif set(sub_set) <= set(data[k]):\n",
        "\t\t\t\tcont += 1\n",
        "\t\tdic_support[str(sub_set)] = round(cont/total_trans,4)\n",
        "\treturn dic_support[str(sub_set)]"
      ],
      "metadata": {
        "id": "ZVgrqiwQzOms"
      },
      "execution_count": 7,
      "outputs": []
    },
    {
      "cell_type": "markdown",
      "source": [
        "Función **generate_apriori**\n",
        "\n",
        "Parámetros:\n",
        "- playlist: base de datos\n",
        "- Lk: lista de posibles candidatos\n",
        "- min_support: soporte mínimo que debe superar cada candidato\n",
        "- cont: de que tamaño se formaran los subconjuntos\n",
        "\n",
        "Salida:\n",
        "- arreglo de subconjuntos que superan el `min_support`"
      ],
      "metadata": {
        "id": "3FwiYmHb0nQy"
      }
    },
    {
      "cell_type": "code",
      "source": [
        "def generate_apriori(playlist, Lk, min_support, cont):\n",
        "    global it_cont\n",
        "    arr_s = [] # array de salida de itemsets frecuentes\n",
        "    for k in range(it_cont, total_trans):\n",
        "        if len(playlist[it_cont]) < cont:\n",
        "            it_cont += 1\n",
        "        else: break\n",
        "    Lk = getListItems(Lk)\n",
        "    # combinaciones en Lk de \"cont\" elementos\n",
        "    arr_C = list(itertools.combinations(Lk,cont))\n",
        "    for subSet in arr_C:\n",
        "        cont = 0\n",
        "        for k in range(it_cont, total_trans):\n",
        "            if set(subSet) <= set(playlist[k]):\n",
        "                cont+=1 # contamos la apariciones de cada subconjunto\n",
        "        cont = cont / total_trans\n",
        "        if cont >= min_support:\n",
        "            arr_s.append(list(subSet))\n",
        "            dic_support[str(set(subSet))] = round(cont, 4)\n",
        "    return arr_s\n"
      ],
      "metadata": {
        "id": "lnki5bpCHOF3"
      },
      "execution_count": 8,
      "outputs": []
    },
    {
      "cell_type": "markdown",
      "source": [
        "## Funciones principales"
      ],
      "metadata": {
        "id": "Td5VE8Sk3SWW"
      }
    },
    {
      "cell_type": "markdown",
      "source": [
        "Función **get_frequent_itemsets**\n",
        "\n",
        "Parámetros:\n",
        "- playlist: base de datos\n",
        "- min_support: soporte mínimo que debe superar cada itemset frecuente\n",
        "\n",
        "Salida:\n",
        "- lista de itemsets frecuentes"
      ],
      "metadata": {
        "id": "aChr1Y6Y3XWH"
      }
    },
    {
      "cell_type": "code",
      "source": [
        "def get_frequent_itemsets(playlist, min_support):\n",
        "    global it_cont\n",
        "    it_cont = 0\n",
        "    Lk = first_items(min_support) # lista primeros candidatos\n",
        "    frequent_items = []\n",
        "    Ck = [] # itemsets que superan el min_support\n",
        "    cont = 2 # iniciamos con subconjuntos de 1 elemento\n",
        "    while(True):\n",
        "        if cont == 2:\n",
        "            frequent_items = generate_apriori(playlist, Lk, min_support, cont)\n",
        "        else:\n",
        "            Ck = frequent_items.copy()\n",
        "            frequent_items = generate_apriori(playlist, Ck, min_support, cont)\n",
        "        if len(frequent_items)==0: break\n",
        "        cont += 1\n",
        "    return Ck"
      ],
      "metadata": {
        "id": "mgsq73Ez3aWV"
      },
      "execution_count": 9,
      "outputs": []
    },
    {
      "cell_type": "markdown",
      "source": [
        "Función **generate_association_rules**\n",
        "\n",
        "Parámetros:\n",
        "- frequent_itemsets: lista de los itemsets frecuentes\n",
        "- confidence: confianza mínima que debe superar cada regla\n",
        "- lift: lift mínimo que debe superar cada regla\n",
        "\n",
        "Salida:\n",
        "- diccionario de reglas de asociación de la forma `{regla} : [soporte de la regla, confianza y lift]`"
      ],
      "metadata": {
        "id": "d1d7UEgV4AMZ"
      }
    },
    {
      "cell_type": "code",
      "source": [
        "def generate_association_rules(frequent_itemsets, confidence = 0, lift = 0):\n",
        "\trules = dict()\n",
        "\tfor itemset in frequent_itemsets:\n",
        "\t\tarr_Pot = powerSet(itemset)\n",
        "\t\tarr_Pot = arr_Pot[1:] # sin el conjunto vacio\n",
        "\t\tarr_Pot = arr_Pot[:-1] # sin el propio conjunto\n",
        "\t\t# para los subconjuntos buscamos las reglas de asociacion\n",
        "\t\tarr_Rules = list(itertools.permutations(arr_Pot,2))\n",
        "\t\tfor rule in arr_Rules:\n",
        "\t\t\tA = set(rule[0])\n",
        "\t\t\tB = set(rule[1]) # A => B\n",
        "\t\t\tAintB = A & B # interseccion de A y B\n",
        "\t\t\tif len(AintB) == 0 :\n",
        "\t\t\t\tkey_rule = str(A) + \" => \" + str(B)\n",
        "\t\t\t\tif key_rule not in rules:\n",
        "\t\t\t\t\t# support( A => B ) = support(A U B)\n",
        "\t\t\t\t\tsupp_rule = support( A | B )\n",
        "\t\t\t\t\t# confidence(A => B) = support(A U B) / support(A)\n",
        "\t\t\t\t\tsupp_A = support( A )\n",
        "\t\t\t\t\tconfidence_rule = supp_rule / supp_A\n",
        "\t\t\t\t\t# lift(A => B) = confidence(A => B) / support(B)\n",
        "\t\t\t\t\tsupp_B = support(B)\n",
        "\t\t\t\t\tlift_rule = confidence_rule / supp_B\n",
        "\t\t\t\t\t# buscamos las reglas que cumple con >= confidence y >= lift\n",
        "\t\t\t\t\tif confidence_rule >= confidence and lift_rule >=lift:\n",
        "\t\t\t\t\t\trules[key_rule] = [round(supp_rule,4), round(confidence_rule,4), round(lift_rule,4)]\n",
        "\treturn rules"
      ],
      "metadata": {
        "id": "XktzzJUk4DD1"
      },
      "execution_count": 10,
      "outputs": []
    },
    {
      "cell_type": "markdown",
      "source": [
        "## Ejecucion del algoritmo"
      ],
      "metadata": {
        "id": "UJJ4aL9s6eCV"
      }
    },
    {
      "cell_type": "code",
      "source": [
        "# obtenemos la lista de subconjuntos más frecuentes\n",
        "min_support = 0.012 #debe aparecer en almenos 1.2% de los itemsets\n",
        "itemsets_frequent = get_frequent_itemsets(data, min_support)"
      ],
      "metadata": {
        "id": "MRkckgPE5YXc"
      },
      "execution_count": 13,
      "outputs": []
    },
    {
      "cell_type": "code",
      "source": [
        "# mostramos los itemsfrecuentes encontrados\n",
        "itemsets_frequent"
      ],
      "metadata": {
        "id": "VCmgq47q6oru",
        "colab": {
          "base_uri": "https://localhost:8080/"
        },
        "outputId": "72ce8f62-506b-4023-dd92-c1d1c8e3604b"
      },
      "execution_count": 14,
      "outputs": [
        {
          "output_type": "execute_result",
          "data": {
            "text/plain": [
              "[['XO TOUR Llif3', 'Mask Off', 'HUMBLE.'],\n",
              " ['XO TOUR Llif3', 'HUMBLE.', 'Congratulations'],\n",
              " ['Mask Off', 'HUMBLE.', 'Congratulations']]"
            ]
          },
          "metadata": {},
          "execution_count": 14
        }
      ]
    },
    {
      "cell_type": "code",
      "source": [
        "# obtenemos las reglas de asociacion\n",
        "confidence = 0.5\n",
        "lift = 10\n",
        "association_rules = generate_association_rules(itemsets_frequent, confidence, lift)"
      ],
      "metadata": {
        "id": "57YkE_WC6s3M"
      },
      "execution_count": 54,
      "outputs": []
    },
    {
      "cell_type": "markdown",
      "source": [
        "### Mostramos las reglas obtenidas en un data frame"
      ],
      "metadata": {
        "id": "Vu7mBkvN662D"
      }
    },
    {
      "cell_type": "code",
      "source": [
        "df = pd.DataFrame() # creamos el dataframe\n",
        "# añadimos columnas\n",
        "df['Rule'] = None\n",
        "df['Support'] = None\n",
        "df['Confidence'] = None\n",
        "df['Lift'] = None"
      ],
      "metadata": {
        "id": "m50z_vHq6-8P"
      },
      "execution_count": 55,
      "outputs": []
    },
    {
      "cell_type": "code",
      "source": [
        "# agregamos las reglas de asociacion halladas\n",
        "for key in association_rules:\n",
        "    val = association_rules[key]\n",
        "    new_row = { 'Rule'      : key, \n",
        "                'Support'   : val[0],\n",
        "                'Confidence': val[1],\n",
        "                'Lift'      : val[2]}\n",
        "    df = df.append(new_row, ignore_index=True)\n"
      ],
      "metadata": {
        "id": "7NuPbaQ379qg"
      },
      "execution_count": 56,
      "outputs": []
    },
    {
      "cell_type": "code",
      "source": [
        "df"
      ],
      "metadata": {
        "id": "BHYzfiXP8yyM",
        "colab": {
          "base_uri": "https://localhost:8080/",
          "height": 520
        },
        "outputId": "a751a2d8-6e61-4aa4-de29-fd93762afb2d"
      },
      "execution_count": 57,
      "outputs": [
        {
          "output_type": "execute_result",
          "data": {
            "text/plain": [
              "                                                 Rule  Support  Confidence  \\\n",
              "0                    {'XO TOUR Llif3'} => {'HUMBLE.'}   0.0204      0.6182   \n",
              "1                   {'Mask Off'} => {'XO TOUR Llif3'}   0.0163      0.5158   \n",
              "2                         {'Mask Off'} => {'HUMBLE.'}   0.0204      0.6456   \n",
              "3        {'Mask Off', 'XO TOUR Llif3'} => {'HUMBLE.'}   0.0131      0.8037   \n",
              "4        {'XO TOUR Llif3', 'HUMBLE.'} => {'Mask Off'}   0.0131      0.6422   \n",
              "5        {'Mask Off', 'HUMBLE.'} => {'XO TOUR Llif3'}   0.0131      0.6422   \n",
              "6            {'XO TOUR Llif3'} => {'Congratulations'}   0.0179      0.5424   \n",
              "7   {'XO TOUR Llif3', 'HUMBLE.'} => {'Congratulati...   0.0128      0.6275   \n",
              "8                  {'Congratulations'} => {'HUMBLE.'}   0.0214      0.5220   \n",
              "9   {'XO TOUR Llif3', 'Congratulations'} => {'HUMB...   0.0128      0.7151   \n",
              "10  {'HUMBLE.', 'Congratulations'} => {'XO TOUR Ll...   0.0128      0.5981   \n",
              "11                {'Mask Off'} => {'Congratulations'}   0.0162      0.5127   \n",
              "12     {'Mask Off', 'HUMBLE.'} => {'Congratulations'}   0.0121      0.5931   \n",
              "13     {'Mask Off', 'Congratulations'} => {'HUMBLE.'}   0.0121      0.7469   \n",
              "14     {'HUMBLE.', 'Congratulations'} => {'Mask Off'}   0.0121      0.5654   \n",
              "\n",
              "       Lift  \n",
              "0   13.1528  \n",
              "1   15.6310  \n",
              "2   13.7355  \n",
              "3   17.0996  \n",
              "4   20.3214  \n",
              "5   19.4593  \n",
              "6   13.2299  \n",
              "7   15.3037  \n",
              "8   11.1053  \n",
              "9   15.2145  \n",
              "10  18.1252  \n",
              "11  12.5039  \n",
              "12  14.4668  \n",
              "13  15.8918  \n",
              "14  17.8931  "
            ],
            "text/html": [
              "\n",
              "  <div id=\"df-94112598-e0ad-4856-8f15-9283fb718613\">\n",
              "    <div class=\"colab-df-container\">\n",
              "      <div>\n",
              "<style scoped>\n",
              "    .dataframe tbody tr th:only-of-type {\n",
              "        vertical-align: middle;\n",
              "    }\n",
              "\n",
              "    .dataframe tbody tr th {\n",
              "        vertical-align: top;\n",
              "    }\n",
              "\n",
              "    .dataframe thead th {\n",
              "        text-align: right;\n",
              "    }\n",
              "</style>\n",
              "<table border=\"1\" class=\"dataframe\">\n",
              "  <thead>\n",
              "    <tr style=\"text-align: right;\">\n",
              "      <th></th>\n",
              "      <th>Rule</th>\n",
              "      <th>Support</th>\n",
              "      <th>Confidence</th>\n",
              "      <th>Lift</th>\n",
              "    </tr>\n",
              "  </thead>\n",
              "  <tbody>\n",
              "    <tr>\n",
              "      <th>0</th>\n",
              "      <td>{'XO TOUR Llif3'} =&gt; {'HUMBLE.'}</td>\n",
              "      <td>0.0204</td>\n",
              "      <td>0.6182</td>\n",
              "      <td>13.1528</td>\n",
              "    </tr>\n",
              "    <tr>\n",
              "      <th>1</th>\n",
              "      <td>{'Mask Off'} =&gt; {'XO TOUR Llif3'}</td>\n",
              "      <td>0.0163</td>\n",
              "      <td>0.5158</td>\n",
              "      <td>15.6310</td>\n",
              "    </tr>\n",
              "    <tr>\n",
              "      <th>2</th>\n",
              "      <td>{'Mask Off'} =&gt; {'HUMBLE.'}</td>\n",
              "      <td>0.0204</td>\n",
              "      <td>0.6456</td>\n",
              "      <td>13.7355</td>\n",
              "    </tr>\n",
              "    <tr>\n",
              "      <th>3</th>\n",
              "      <td>{'Mask Off', 'XO TOUR Llif3'} =&gt; {'HUMBLE.'}</td>\n",
              "      <td>0.0131</td>\n",
              "      <td>0.8037</td>\n",
              "      <td>17.0996</td>\n",
              "    </tr>\n",
              "    <tr>\n",
              "      <th>4</th>\n",
              "      <td>{'XO TOUR Llif3', 'HUMBLE.'} =&gt; {'Mask Off'}</td>\n",
              "      <td>0.0131</td>\n",
              "      <td>0.6422</td>\n",
              "      <td>20.3214</td>\n",
              "    </tr>\n",
              "    <tr>\n",
              "      <th>5</th>\n",
              "      <td>{'Mask Off', 'HUMBLE.'} =&gt; {'XO TOUR Llif3'}</td>\n",
              "      <td>0.0131</td>\n",
              "      <td>0.6422</td>\n",
              "      <td>19.4593</td>\n",
              "    </tr>\n",
              "    <tr>\n",
              "      <th>6</th>\n",
              "      <td>{'XO TOUR Llif3'} =&gt; {'Congratulations'}</td>\n",
              "      <td>0.0179</td>\n",
              "      <td>0.5424</td>\n",
              "      <td>13.2299</td>\n",
              "    </tr>\n",
              "    <tr>\n",
              "      <th>7</th>\n",
              "      <td>{'XO TOUR Llif3', 'HUMBLE.'} =&gt; {'Congratulati...</td>\n",
              "      <td>0.0128</td>\n",
              "      <td>0.6275</td>\n",
              "      <td>15.3037</td>\n",
              "    </tr>\n",
              "    <tr>\n",
              "      <th>8</th>\n",
              "      <td>{'Congratulations'} =&gt; {'HUMBLE.'}</td>\n",
              "      <td>0.0214</td>\n",
              "      <td>0.5220</td>\n",
              "      <td>11.1053</td>\n",
              "    </tr>\n",
              "    <tr>\n",
              "      <th>9</th>\n",
              "      <td>{'XO TOUR Llif3', 'Congratulations'} =&gt; {'HUMB...</td>\n",
              "      <td>0.0128</td>\n",
              "      <td>0.7151</td>\n",
              "      <td>15.2145</td>\n",
              "    </tr>\n",
              "    <tr>\n",
              "      <th>10</th>\n",
              "      <td>{'HUMBLE.', 'Congratulations'} =&gt; {'XO TOUR Ll...</td>\n",
              "      <td>0.0128</td>\n",
              "      <td>0.5981</td>\n",
              "      <td>18.1252</td>\n",
              "    </tr>\n",
              "    <tr>\n",
              "      <th>11</th>\n",
              "      <td>{'Mask Off'} =&gt; {'Congratulations'}</td>\n",
              "      <td>0.0162</td>\n",
              "      <td>0.5127</td>\n",
              "      <td>12.5039</td>\n",
              "    </tr>\n",
              "    <tr>\n",
              "      <th>12</th>\n",
              "      <td>{'Mask Off', 'HUMBLE.'} =&gt; {'Congratulations'}</td>\n",
              "      <td>0.0121</td>\n",
              "      <td>0.5931</td>\n",
              "      <td>14.4668</td>\n",
              "    </tr>\n",
              "    <tr>\n",
              "      <th>13</th>\n",
              "      <td>{'Mask Off', 'Congratulations'} =&gt; {'HUMBLE.'}</td>\n",
              "      <td>0.0121</td>\n",
              "      <td>0.7469</td>\n",
              "      <td>15.8918</td>\n",
              "    </tr>\n",
              "    <tr>\n",
              "      <th>14</th>\n",
              "      <td>{'HUMBLE.', 'Congratulations'} =&gt; {'Mask Off'}</td>\n",
              "      <td>0.0121</td>\n",
              "      <td>0.5654</td>\n",
              "      <td>17.8931</td>\n",
              "    </tr>\n",
              "  </tbody>\n",
              "</table>\n",
              "</div>\n",
              "      <button class=\"colab-df-convert\" onclick=\"convertToInteractive('df-94112598-e0ad-4856-8f15-9283fb718613')\"\n",
              "              title=\"Convert this dataframe to an interactive table.\"\n",
              "              style=\"display:none;\">\n",
              "        \n",
              "  <svg xmlns=\"http://www.w3.org/2000/svg\" height=\"24px\"viewBox=\"0 0 24 24\"\n",
              "       width=\"24px\">\n",
              "    <path d=\"M0 0h24v24H0V0z\" fill=\"none\"/>\n",
              "    <path d=\"M18.56 5.44l.94 2.06.94-2.06 2.06-.94-2.06-.94-.94-2.06-.94 2.06-2.06.94zm-11 1L8.5 8.5l.94-2.06 2.06-.94-2.06-.94L8.5 2.5l-.94 2.06-2.06.94zm10 10l.94 2.06.94-2.06 2.06-.94-2.06-.94-.94-2.06-.94 2.06-2.06.94z\"/><path d=\"M17.41 7.96l-1.37-1.37c-.4-.4-.92-.59-1.43-.59-.52 0-1.04.2-1.43.59L10.3 9.45l-7.72 7.72c-.78.78-.78 2.05 0 2.83L4 21.41c.39.39.9.59 1.41.59.51 0 1.02-.2 1.41-.59l7.78-7.78 2.81-2.81c.8-.78.8-2.07 0-2.86zM5.41 20L4 18.59l7.72-7.72 1.47 1.35L5.41 20z\"/>\n",
              "  </svg>\n",
              "      </button>\n",
              "      \n",
              "  <style>\n",
              "    .colab-df-container {\n",
              "      display:flex;\n",
              "      flex-wrap:wrap;\n",
              "      gap: 12px;\n",
              "    }\n",
              "\n",
              "    .colab-df-convert {\n",
              "      background-color: #E8F0FE;\n",
              "      border: none;\n",
              "      border-radius: 50%;\n",
              "      cursor: pointer;\n",
              "      display: none;\n",
              "      fill: #1967D2;\n",
              "      height: 32px;\n",
              "      padding: 0 0 0 0;\n",
              "      width: 32px;\n",
              "    }\n",
              "\n",
              "    .colab-df-convert:hover {\n",
              "      background-color: #E2EBFA;\n",
              "      box-shadow: 0px 1px 2px rgba(60, 64, 67, 0.3), 0px 1px 3px 1px rgba(60, 64, 67, 0.15);\n",
              "      fill: #174EA6;\n",
              "    }\n",
              "\n",
              "    [theme=dark] .colab-df-convert {\n",
              "      background-color: #3B4455;\n",
              "      fill: #D2E3FC;\n",
              "    }\n",
              "\n",
              "    [theme=dark] .colab-df-convert:hover {\n",
              "      background-color: #434B5C;\n",
              "      box-shadow: 0px 1px 3px 1px rgba(0, 0, 0, 0.15);\n",
              "      filter: drop-shadow(0px 1px 2px rgba(0, 0, 0, 0.3));\n",
              "      fill: #FFFFFF;\n",
              "    }\n",
              "  </style>\n",
              "\n",
              "      <script>\n",
              "        const buttonEl =\n",
              "          document.querySelector('#df-94112598-e0ad-4856-8f15-9283fb718613 button.colab-df-convert');\n",
              "        buttonEl.style.display =\n",
              "          google.colab.kernel.accessAllowed ? 'block' : 'none';\n",
              "\n",
              "        async function convertToInteractive(key) {\n",
              "          const element = document.querySelector('#df-94112598-e0ad-4856-8f15-9283fb718613');\n",
              "          const dataTable =\n",
              "            await google.colab.kernel.invokeFunction('convertToInteractive',\n",
              "                                                     [key], {});\n",
              "          if (!dataTable) return;\n",
              "\n",
              "          const docLinkHtml = 'Like what you see? Visit the ' +\n",
              "            '<a target=\"_blank\" href=https://colab.research.google.com/notebooks/data_table.ipynb>data table notebook</a>'\n",
              "            + ' to learn more about interactive tables.';\n",
              "          element.innerHTML = '';\n",
              "          dataTable['output_type'] = 'display_data';\n",
              "          await google.colab.output.renderOutput(dataTable, element);\n",
              "          const docLink = document.createElement('div');\n",
              "          docLink.innerHTML = docLinkHtml;\n",
              "          element.appendChild(docLink);\n",
              "        }\n",
              "      </script>\n",
              "    </div>\n",
              "  </div>\n",
              "  "
            ]
          },
          "metadata": {},
          "execution_count": 57
        }
      ]
    },
    {
      "cell_type": "markdown",
      "source": [
        "## Filtramos las mejores 10 reglas de asociación por mayor Confidence"
      ],
      "metadata": {
        "id": "XwDFqihvay7Z"
      }
    },
    {
      "cell_type": "code",
      "source": [
        "by_confidence = df.sort_values('Confidence',ascending=False)\n",
        "by_confidence[:10]"
      ],
      "metadata": {
        "colab": {
          "base_uri": "https://localhost:8080/",
          "height": 363
        },
        "id": "JDnz92u4aQ40",
        "outputId": "771d6ab9-0e91-490f-c553-f52b7aafc60e"
      },
      "execution_count": 53,
      "outputs": [
        {
          "output_type": "execute_result",
          "data": {
            "text/plain": [
              "                                                 Rule  Support  Confidence  \\\n",
              "3        {'Mask Off', 'XO TOUR Llif3'} => {'HUMBLE.'}   0.0131      0.8037   \n",
              "13     {'Mask Off', 'Congratulations'} => {'HUMBLE.'}   0.0121      0.7469   \n",
              "9   {'XO TOUR Llif3', 'Congratulations'} => {'HUMB...   0.0128      0.7151   \n",
              "2                         {'Mask Off'} => {'HUMBLE.'}   0.0204      0.6456   \n",
              "4        {'XO TOUR Llif3', 'HUMBLE.'} => {'Mask Off'}   0.0131      0.6422   \n",
              "5        {'Mask Off', 'HUMBLE.'} => {'XO TOUR Llif3'}   0.0131      0.6422   \n",
              "7   {'XO TOUR Llif3', 'HUMBLE.'} => {'Congratulati...   0.0128      0.6275   \n",
              "0                    {'XO TOUR Llif3'} => {'HUMBLE.'}   0.0204      0.6182   \n",
              "10  {'HUMBLE.', 'Congratulations'} => {'XO TOUR Ll...   0.0128      0.5981   \n",
              "12     {'Mask Off', 'HUMBLE.'} => {'Congratulations'}   0.0121      0.5931   \n",
              "\n",
              "       Lift  \n",
              "3   17.0996  \n",
              "13  15.8918  \n",
              "9   15.2145  \n",
              "2   13.7355  \n",
              "4   20.3214  \n",
              "5   19.4593  \n",
              "7   15.3037  \n",
              "0   13.1528  \n",
              "10  18.1252  \n",
              "12  14.4668  "
            ],
            "text/html": [
              "\n",
              "  <div id=\"df-234817df-b5d4-4a0b-8e72-2016664565bd\">\n",
              "    <div class=\"colab-df-container\">\n",
              "      <div>\n",
              "<style scoped>\n",
              "    .dataframe tbody tr th:only-of-type {\n",
              "        vertical-align: middle;\n",
              "    }\n",
              "\n",
              "    .dataframe tbody tr th {\n",
              "        vertical-align: top;\n",
              "    }\n",
              "\n",
              "    .dataframe thead th {\n",
              "        text-align: right;\n",
              "    }\n",
              "</style>\n",
              "<table border=\"1\" class=\"dataframe\">\n",
              "  <thead>\n",
              "    <tr style=\"text-align: right;\">\n",
              "      <th></th>\n",
              "      <th>Rule</th>\n",
              "      <th>Support</th>\n",
              "      <th>Confidence</th>\n",
              "      <th>Lift</th>\n",
              "    </tr>\n",
              "  </thead>\n",
              "  <tbody>\n",
              "    <tr>\n",
              "      <th>3</th>\n",
              "      <td>{'Mask Off', 'XO TOUR Llif3'} =&gt; {'HUMBLE.'}</td>\n",
              "      <td>0.0131</td>\n",
              "      <td>0.8037</td>\n",
              "      <td>17.0996</td>\n",
              "    </tr>\n",
              "    <tr>\n",
              "      <th>13</th>\n",
              "      <td>{'Mask Off', 'Congratulations'} =&gt; {'HUMBLE.'}</td>\n",
              "      <td>0.0121</td>\n",
              "      <td>0.7469</td>\n",
              "      <td>15.8918</td>\n",
              "    </tr>\n",
              "    <tr>\n",
              "      <th>9</th>\n",
              "      <td>{'XO TOUR Llif3', 'Congratulations'} =&gt; {'HUMB...</td>\n",
              "      <td>0.0128</td>\n",
              "      <td>0.7151</td>\n",
              "      <td>15.2145</td>\n",
              "    </tr>\n",
              "    <tr>\n",
              "      <th>2</th>\n",
              "      <td>{'Mask Off'} =&gt; {'HUMBLE.'}</td>\n",
              "      <td>0.0204</td>\n",
              "      <td>0.6456</td>\n",
              "      <td>13.7355</td>\n",
              "    </tr>\n",
              "    <tr>\n",
              "      <th>4</th>\n",
              "      <td>{'XO TOUR Llif3', 'HUMBLE.'} =&gt; {'Mask Off'}</td>\n",
              "      <td>0.0131</td>\n",
              "      <td>0.6422</td>\n",
              "      <td>20.3214</td>\n",
              "    </tr>\n",
              "    <tr>\n",
              "      <th>5</th>\n",
              "      <td>{'Mask Off', 'HUMBLE.'} =&gt; {'XO TOUR Llif3'}</td>\n",
              "      <td>0.0131</td>\n",
              "      <td>0.6422</td>\n",
              "      <td>19.4593</td>\n",
              "    </tr>\n",
              "    <tr>\n",
              "      <th>7</th>\n",
              "      <td>{'XO TOUR Llif3', 'HUMBLE.'} =&gt; {'Congratulati...</td>\n",
              "      <td>0.0128</td>\n",
              "      <td>0.6275</td>\n",
              "      <td>15.3037</td>\n",
              "    </tr>\n",
              "    <tr>\n",
              "      <th>0</th>\n",
              "      <td>{'XO TOUR Llif3'} =&gt; {'HUMBLE.'}</td>\n",
              "      <td>0.0204</td>\n",
              "      <td>0.6182</td>\n",
              "      <td>13.1528</td>\n",
              "    </tr>\n",
              "    <tr>\n",
              "      <th>10</th>\n",
              "      <td>{'HUMBLE.', 'Congratulations'} =&gt; {'XO TOUR Ll...</td>\n",
              "      <td>0.0128</td>\n",
              "      <td>0.5981</td>\n",
              "      <td>18.1252</td>\n",
              "    </tr>\n",
              "    <tr>\n",
              "      <th>12</th>\n",
              "      <td>{'Mask Off', 'HUMBLE.'} =&gt; {'Congratulations'}</td>\n",
              "      <td>0.0121</td>\n",
              "      <td>0.5931</td>\n",
              "      <td>14.4668</td>\n",
              "    </tr>\n",
              "  </tbody>\n",
              "</table>\n",
              "</div>\n",
              "      <button class=\"colab-df-convert\" onclick=\"convertToInteractive('df-234817df-b5d4-4a0b-8e72-2016664565bd')\"\n",
              "              title=\"Convert this dataframe to an interactive table.\"\n",
              "              style=\"display:none;\">\n",
              "        \n",
              "  <svg xmlns=\"http://www.w3.org/2000/svg\" height=\"24px\"viewBox=\"0 0 24 24\"\n",
              "       width=\"24px\">\n",
              "    <path d=\"M0 0h24v24H0V0z\" fill=\"none\"/>\n",
              "    <path d=\"M18.56 5.44l.94 2.06.94-2.06 2.06-.94-2.06-.94-.94-2.06-.94 2.06-2.06.94zm-11 1L8.5 8.5l.94-2.06 2.06-.94-2.06-.94L8.5 2.5l-.94 2.06-2.06.94zm10 10l.94 2.06.94-2.06 2.06-.94-2.06-.94-.94-2.06-.94 2.06-2.06.94z\"/><path d=\"M17.41 7.96l-1.37-1.37c-.4-.4-.92-.59-1.43-.59-.52 0-1.04.2-1.43.59L10.3 9.45l-7.72 7.72c-.78.78-.78 2.05 0 2.83L4 21.41c.39.39.9.59 1.41.59.51 0 1.02-.2 1.41-.59l7.78-7.78 2.81-2.81c.8-.78.8-2.07 0-2.86zM5.41 20L4 18.59l7.72-7.72 1.47 1.35L5.41 20z\"/>\n",
              "  </svg>\n",
              "      </button>\n",
              "      \n",
              "  <style>\n",
              "    .colab-df-container {\n",
              "      display:flex;\n",
              "      flex-wrap:wrap;\n",
              "      gap: 12px;\n",
              "    }\n",
              "\n",
              "    .colab-df-convert {\n",
              "      background-color: #E8F0FE;\n",
              "      border: none;\n",
              "      border-radius: 50%;\n",
              "      cursor: pointer;\n",
              "      display: none;\n",
              "      fill: #1967D2;\n",
              "      height: 32px;\n",
              "      padding: 0 0 0 0;\n",
              "      width: 32px;\n",
              "    }\n",
              "\n",
              "    .colab-df-convert:hover {\n",
              "      background-color: #E2EBFA;\n",
              "      box-shadow: 0px 1px 2px rgba(60, 64, 67, 0.3), 0px 1px 3px 1px rgba(60, 64, 67, 0.15);\n",
              "      fill: #174EA6;\n",
              "    }\n",
              "\n",
              "    [theme=dark] .colab-df-convert {\n",
              "      background-color: #3B4455;\n",
              "      fill: #D2E3FC;\n",
              "    }\n",
              "\n",
              "    [theme=dark] .colab-df-convert:hover {\n",
              "      background-color: #434B5C;\n",
              "      box-shadow: 0px 1px 3px 1px rgba(0, 0, 0, 0.15);\n",
              "      filter: drop-shadow(0px 1px 2px rgba(0, 0, 0, 0.3));\n",
              "      fill: #FFFFFF;\n",
              "    }\n",
              "  </style>\n",
              "\n",
              "      <script>\n",
              "        const buttonEl =\n",
              "          document.querySelector('#df-234817df-b5d4-4a0b-8e72-2016664565bd button.colab-df-convert');\n",
              "        buttonEl.style.display =\n",
              "          google.colab.kernel.accessAllowed ? 'block' : 'none';\n",
              "\n",
              "        async function convertToInteractive(key) {\n",
              "          const element = document.querySelector('#df-234817df-b5d4-4a0b-8e72-2016664565bd');\n",
              "          const dataTable =\n",
              "            await google.colab.kernel.invokeFunction('convertToInteractive',\n",
              "                                                     [key], {});\n",
              "          if (!dataTable) return;\n",
              "\n",
              "          const docLinkHtml = 'Like what you see? Visit the ' +\n",
              "            '<a target=\"_blank\" href=https://colab.research.google.com/notebooks/data_table.ipynb>data table notebook</a>'\n",
              "            + ' to learn more about interactive tables.';\n",
              "          element.innerHTML = '';\n",
              "          dataTable['output_type'] = 'display_data';\n",
              "          await google.colab.output.renderOutput(dataTable, element);\n",
              "          const docLink = document.createElement('div');\n",
              "          docLink.innerHTML = docLinkHtml;\n",
              "          element.appendChild(docLink);\n",
              "        }\n",
              "      </script>\n",
              "    </div>\n",
              "  </div>\n",
              "  "
            ]
          },
          "metadata": {},
          "execution_count": 53
        }
      ]
    },
    {
      "cell_type": "markdown",
      "source": [
        "## Explicación de las reglas obtenidas"
      ],
      "metadata": {
        "id": "ukUpygjre-_L"
      }
    },
    {
      "cell_type": "code",
      "source": [
        "by_confidence[0:1]"
      ],
      "metadata": {
        "colab": {
          "base_uri": "https://localhost:8080/",
          "height": 81
        },
        "id": "6pq7CnBRfEmm",
        "outputId": "2a513882-6651-4188-998a-ac445946c430"
      },
      "execution_count": 63,
      "outputs": [
        {
          "output_type": "execute_result",
          "data": {
            "text/plain": [
              "                                           Rule  Support  Confidence     Lift\n",
              "3  {'Mask Off', 'XO TOUR Llif3'} => {'HUMBLE.'}   0.0131      0.8037  17.0996"
            ],
            "text/html": [
              "\n",
              "  <div id=\"df-782e261e-5d19-40e0-bd5b-d777e0d77a44\">\n",
              "    <div class=\"colab-df-container\">\n",
              "      <div>\n",
              "<style scoped>\n",
              "    .dataframe tbody tr th:only-of-type {\n",
              "        vertical-align: middle;\n",
              "    }\n",
              "\n",
              "    .dataframe tbody tr th {\n",
              "        vertical-align: top;\n",
              "    }\n",
              "\n",
              "    .dataframe thead th {\n",
              "        text-align: right;\n",
              "    }\n",
              "</style>\n",
              "<table border=\"1\" class=\"dataframe\">\n",
              "  <thead>\n",
              "    <tr style=\"text-align: right;\">\n",
              "      <th></th>\n",
              "      <th>Rule</th>\n",
              "      <th>Support</th>\n",
              "      <th>Confidence</th>\n",
              "      <th>Lift</th>\n",
              "    </tr>\n",
              "  </thead>\n",
              "  <tbody>\n",
              "    <tr>\n",
              "      <th>3</th>\n",
              "      <td>{'Mask Off', 'XO TOUR Llif3'} =&gt; {'HUMBLE.'}</td>\n",
              "      <td>0.0131</td>\n",
              "      <td>0.8037</td>\n",
              "      <td>17.0996</td>\n",
              "    </tr>\n",
              "  </tbody>\n",
              "</table>\n",
              "</div>\n",
              "      <button class=\"colab-df-convert\" onclick=\"convertToInteractive('df-782e261e-5d19-40e0-bd5b-d777e0d77a44')\"\n",
              "              title=\"Convert this dataframe to an interactive table.\"\n",
              "              style=\"display:none;\">\n",
              "        \n",
              "  <svg xmlns=\"http://www.w3.org/2000/svg\" height=\"24px\"viewBox=\"0 0 24 24\"\n",
              "       width=\"24px\">\n",
              "    <path d=\"M0 0h24v24H0V0z\" fill=\"none\"/>\n",
              "    <path d=\"M18.56 5.44l.94 2.06.94-2.06 2.06-.94-2.06-.94-.94-2.06-.94 2.06-2.06.94zm-11 1L8.5 8.5l.94-2.06 2.06-.94-2.06-.94L8.5 2.5l-.94 2.06-2.06.94zm10 10l.94 2.06.94-2.06 2.06-.94-2.06-.94-.94-2.06-.94 2.06-2.06.94z\"/><path d=\"M17.41 7.96l-1.37-1.37c-.4-.4-.92-.59-1.43-.59-.52 0-1.04.2-1.43.59L10.3 9.45l-7.72 7.72c-.78.78-.78 2.05 0 2.83L4 21.41c.39.39.9.59 1.41.59.51 0 1.02-.2 1.41-.59l7.78-7.78 2.81-2.81c.8-.78.8-2.07 0-2.86zM5.41 20L4 18.59l7.72-7.72 1.47 1.35L5.41 20z\"/>\n",
              "  </svg>\n",
              "      </button>\n",
              "      \n",
              "  <style>\n",
              "    .colab-df-container {\n",
              "      display:flex;\n",
              "      flex-wrap:wrap;\n",
              "      gap: 12px;\n",
              "    }\n",
              "\n",
              "    .colab-df-convert {\n",
              "      background-color: #E8F0FE;\n",
              "      border: none;\n",
              "      border-radius: 50%;\n",
              "      cursor: pointer;\n",
              "      display: none;\n",
              "      fill: #1967D2;\n",
              "      height: 32px;\n",
              "      padding: 0 0 0 0;\n",
              "      width: 32px;\n",
              "    }\n",
              "\n",
              "    .colab-df-convert:hover {\n",
              "      background-color: #E2EBFA;\n",
              "      box-shadow: 0px 1px 2px rgba(60, 64, 67, 0.3), 0px 1px 3px 1px rgba(60, 64, 67, 0.15);\n",
              "      fill: #174EA6;\n",
              "    }\n",
              "\n",
              "    [theme=dark] .colab-df-convert {\n",
              "      background-color: #3B4455;\n",
              "      fill: #D2E3FC;\n",
              "    }\n",
              "\n",
              "    [theme=dark] .colab-df-convert:hover {\n",
              "      background-color: #434B5C;\n",
              "      box-shadow: 0px 1px 3px 1px rgba(0, 0, 0, 0.15);\n",
              "      filter: drop-shadow(0px 1px 2px rgba(0, 0, 0, 0.3));\n",
              "      fill: #FFFFFF;\n",
              "    }\n",
              "  </style>\n",
              "\n",
              "      <script>\n",
              "        const buttonEl =\n",
              "          document.querySelector('#df-782e261e-5d19-40e0-bd5b-d777e0d77a44 button.colab-df-convert');\n",
              "        buttonEl.style.display =\n",
              "          google.colab.kernel.accessAllowed ? 'block' : 'none';\n",
              "\n",
              "        async function convertToInteractive(key) {\n",
              "          const element = document.querySelector('#df-782e261e-5d19-40e0-bd5b-d777e0d77a44');\n",
              "          const dataTable =\n",
              "            await google.colab.kernel.invokeFunction('convertToInteractive',\n",
              "                                                     [key], {});\n",
              "          if (!dataTable) return;\n",
              "\n",
              "          const docLinkHtml = 'Like what you see? Visit the ' +\n",
              "            '<a target=\"_blank\" href=https://colab.research.google.com/notebooks/data_table.ipynb>data table notebook</a>'\n",
              "            + ' to learn more about interactive tables.';\n",
              "          element.innerHTML = '';\n",
              "          dataTable['output_type'] = 'display_data';\n",
              "          await google.colab.output.renderOutput(dataTable, element);\n",
              "          const docLink = document.createElement('div');\n",
              "          docLink.innerHTML = docLinkHtml;\n",
              "          element.appendChild(docLink);\n",
              "        }\n",
              "      </script>\n",
              "    </div>\n",
              "  </div>\n",
              "  "
            ]
          },
          "metadata": {},
          "execution_count": 63
        }
      ]
    },
    {
      "cell_type": "markdown",
      "source": [
        "- Estas 3 canciones ocurren en el 1.31% de las playlist en este dataset,\n",
        "lo que quiere decir que estan presentes en 131 playlist de las 10 000 que\n",
        "hay en nuestro dataset.\n",
        "- Además, podemos decir que si en una playlist estan \"Mask Off\" y \"XO TOUR Llif3\"\n",
        "pueden aparecer junto a \"HUMBLE\" con una seguridad del 80.37 %.\n",
        "- Por ultimo, al tener un lift bastante alejado de 1 (17.0996)\n",
        "podemos decir que la regla representa un valor real, es decir, cuando en una\n",
        "playlist estas juntas las canciones \"Mask Off\" y \"XO TOUR Llif3\" aumenta la\n",
        "probabilidad de que tambien este \"HUMBLE\"."
      ],
      "metadata": {
        "id": "E8vv8cGNfXnL"
      }
    },
    {
      "cell_type": "code",
      "source": [
        "by_confidence[1:2]"
      ],
      "metadata": {
        "colab": {
          "base_uri": "https://localhost:8080/",
          "height": 81
        },
        "id": "xWVUB7v-faot",
        "outputId": "8f0cdb27-a590-4e8f-91a9-5576aec74a65"
      },
      "execution_count": 64,
      "outputs": [
        {
          "output_type": "execute_result",
          "data": {
            "text/plain": [
              "                                              Rule  Support  Confidence  \\\n",
              "13  {'Mask Off', 'Congratulations'} => {'HUMBLE.'}   0.0121      0.7469   \n",
              "\n",
              "       Lift  \n",
              "13  15.8918  "
            ],
            "text/html": [
              "\n",
              "  <div id=\"df-39d0ef6a-a897-4f3e-8e20-1a262103cd10\">\n",
              "    <div class=\"colab-df-container\">\n",
              "      <div>\n",
              "<style scoped>\n",
              "    .dataframe tbody tr th:only-of-type {\n",
              "        vertical-align: middle;\n",
              "    }\n",
              "\n",
              "    .dataframe tbody tr th {\n",
              "        vertical-align: top;\n",
              "    }\n",
              "\n",
              "    .dataframe thead th {\n",
              "        text-align: right;\n",
              "    }\n",
              "</style>\n",
              "<table border=\"1\" class=\"dataframe\">\n",
              "  <thead>\n",
              "    <tr style=\"text-align: right;\">\n",
              "      <th></th>\n",
              "      <th>Rule</th>\n",
              "      <th>Support</th>\n",
              "      <th>Confidence</th>\n",
              "      <th>Lift</th>\n",
              "    </tr>\n",
              "  </thead>\n",
              "  <tbody>\n",
              "    <tr>\n",
              "      <th>13</th>\n",
              "      <td>{'Mask Off', 'Congratulations'} =&gt; {'HUMBLE.'}</td>\n",
              "      <td>0.0121</td>\n",
              "      <td>0.7469</td>\n",
              "      <td>15.8918</td>\n",
              "    </tr>\n",
              "  </tbody>\n",
              "</table>\n",
              "</div>\n",
              "      <button class=\"colab-df-convert\" onclick=\"convertToInteractive('df-39d0ef6a-a897-4f3e-8e20-1a262103cd10')\"\n",
              "              title=\"Convert this dataframe to an interactive table.\"\n",
              "              style=\"display:none;\">\n",
              "        \n",
              "  <svg xmlns=\"http://www.w3.org/2000/svg\" height=\"24px\"viewBox=\"0 0 24 24\"\n",
              "       width=\"24px\">\n",
              "    <path d=\"M0 0h24v24H0V0z\" fill=\"none\"/>\n",
              "    <path d=\"M18.56 5.44l.94 2.06.94-2.06 2.06-.94-2.06-.94-.94-2.06-.94 2.06-2.06.94zm-11 1L8.5 8.5l.94-2.06 2.06-.94-2.06-.94L8.5 2.5l-.94 2.06-2.06.94zm10 10l.94 2.06.94-2.06 2.06-.94-2.06-.94-.94-2.06-.94 2.06-2.06.94z\"/><path d=\"M17.41 7.96l-1.37-1.37c-.4-.4-.92-.59-1.43-.59-.52 0-1.04.2-1.43.59L10.3 9.45l-7.72 7.72c-.78.78-.78 2.05 0 2.83L4 21.41c.39.39.9.59 1.41.59.51 0 1.02-.2 1.41-.59l7.78-7.78 2.81-2.81c.8-.78.8-2.07 0-2.86zM5.41 20L4 18.59l7.72-7.72 1.47 1.35L5.41 20z\"/>\n",
              "  </svg>\n",
              "      </button>\n",
              "      \n",
              "  <style>\n",
              "    .colab-df-container {\n",
              "      display:flex;\n",
              "      flex-wrap:wrap;\n",
              "      gap: 12px;\n",
              "    }\n",
              "\n",
              "    .colab-df-convert {\n",
              "      background-color: #E8F0FE;\n",
              "      border: none;\n",
              "      border-radius: 50%;\n",
              "      cursor: pointer;\n",
              "      display: none;\n",
              "      fill: #1967D2;\n",
              "      height: 32px;\n",
              "      padding: 0 0 0 0;\n",
              "      width: 32px;\n",
              "    }\n",
              "\n",
              "    .colab-df-convert:hover {\n",
              "      background-color: #E2EBFA;\n",
              "      box-shadow: 0px 1px 2px rgba(60, 64, 67, 0.3), 0px 1px 3px 1px rgba(60, 64, 67, 0.15);\n",
              "      fill: #174EA6;\n",
              "    }\n",
              "\n",
              "    [theme=dark] .colab-df-convert {\n",
              "      background-color: #3B4455;\n",
              "      fill: #D2E3FC;\n",
              "    }\n",
              "\n",
              "    [theme=dark] .colab-df-convert:hover {\n",
              "      background-color: #434B5C;\n",
              "      box-shadow: 0px 1px 3px 1px rgba(0, 0, 0, 0.15);\n",
              "      filter: drop-shadow(0px 1px 2px rgba(0, 0, 0, 0.3));\n",
              "      fill: #FFFFFF;\n",
              "    }\n",
              "  </style>\n",
              "\n",
              "      <script>\n",
              "        const buttonEl =\n",
              "          document.querySelector('#df-39d0ef6a-a897-4f3e-8e20-1a262103cd10 button.colab-df-convert');\n",
              "        buttonEl.style.display =\n",
              "          google.colab.kernel.accessAllowed ? 'block' : 'none';\n",
              "\n",
              "        async function convertToInteractive(key) {\n",
              "          const element = document.querySelector('#df-39d0ef6a-a897-4f3e-8e20-1a262103cd10');\n",
              "          const dataTable =\n",
              "            await google.colab.kernel.invokeFunction('convertToInteractive',\n",
              "                                                     [key], {});\n",
              "          if (!dataTable) return;\n",
              "\n",
              "          const docLinkHtml = 'Like what you see? Visit the ' +\n",
              "            '<a target=\"_blank\" href=https://colab.research.google.com/notebooks/data_table.ipynb>data table notebook</a>'\n",
              "            + ' to learn more about interactive tables.';\n",
              "          element.innerHTML = '';\n",
              "          dataTable['output_type'] = 'display_data';\n",
              "          await google.colab.output.renderOutput(dataTable, element);\n",
              "          const docLink = document.createElement('div');\n",
              "          docLink.innerHTML = docLinkHtml;\n",
              "          element.appendChild(docLink);\n",
              "        }\n",
              "      </script>\n",
              "    </div>\n",
              "  </div>\n",
              "  "
            ]
          },
          "metadata": {},
          "execution_count": 64
        }
      ]
    },
    {
      "cell_type": "markdown",
      "source": [
        "- Estas 3 canciones ocurren en el 1.21% de las playlist en este dataset,\n",
        "lo que quiere decir que estan presentes en 121 playlist de las 10 000 que \n",
        "hay en nuestro dataset,\n",
        "- Además, podemos decir que si en una playlist estan \"Mask Off\" y \n",
        "\"Congratulations\" pueden aparecer junto a \"HUMBLE\" con una seguridad del 74.69 %.\n",
        "- Por ultimo, al tener un lift tambien bastante alejado de 1, \n",
        "podemos decir que la regla representa un valor real, es decir, cuando en una\n",
        "playlist estan juntas \"Mask Off\" y \"Congratulations\", aumenta la probabilidad\n",
        "de que tambien este \"HUMBLE\"."
      ],
      "metadata": {
        "id": "nfl9LJIPfki2"
      }
    },
    {
      "cell_type": "code",
      "source": [
        "by_confidence[9:10]"
      ],
      "metadata": {
        "colab": {
          "base_uri": "https://localhost:8080/",
          "height": 81
        },
        "id": "AJ280sP7fehF",
        "outputId": "48e3d8a1-16b2-4170-80ba-29e7eeb93875"
      },
      "execution_count": 66,
      "outputs": [
        {
          "output_type": "execute_result",
          "data": {
            "text/plain": [
              "                                              Rule  Support  Confidence  \\\n",
              "12  {'Mask Off', 'HUMBLE.'} => {'Congratulations'}   0.0121      0.5931   \n",
              "\n",
              "       Lift  \n",
              "12  14.4668  "
            ],
            "text/html": [
              "\n",
              "  <div id=\"df-e6612c9c-5713-40cd-bf46-5250b74a0add\">\n",
              "    <div class=\"colab-df-container\">\n",
              "      <div>\n",
              "<style scoped>\n",
              "    .dataframe tbody tr th:only-of-type {\n",
              "        vertical-align: middle;\n",
              "    }\n",
              "\n",
              "    .dataframe tbody tr th {\n",
              "        vertical-align: top;\n",
              "    }\n",
              "\n",
              "    .dataframe thead th {\n",
              "        text-align: right;\n",
              "    }\n",
              "</style>\n",
              "<table border=\"1\" class=\"dataframe\">\n",
              "  <thead>\n",
              "    <tr style=\"text-align: right;\">\n",
              "      <th></th>\n",
              "      <th>Rule</th>\n",
              "      <th>Support</th>\n",
              "      <th>Confidence</th>\n",
              "      <th>Lift</th>\n",
              "    </tr>\n",
              "  </thead>\n",
              "  <tbody>\n",
              "    <tr>\n",
              "      <th>12</th>\n",
              "      <td>{'Mask Off', 'HUMBLE.'} =&gt; {'Congratulations'}</td>\n",
              "      <td>0.0121</td>\n",
              "      <td>0.5931</td>\n",
              "      <td>14.4668</td>\n",
              "    </tr>\n",
              "  </tbody>\n",
              "</table>\n",
              "</div>\n",
              "      <button class=\"colab-df-convert\" onclick=\"convertToInteractive('df-e6612c9c-5713-40cd-bf46-5250b74a0add')\"\n",
              "              title=\"Convert this dataframe to an interactive table.\"\n",
              "              style=\"display:none;\">\n",
              "        \n",
              "  <svg xmlns=\"http://www.w3.org/2000/svg\" height=\"24px\"viewBox=\"0 0 24 24\"\n",
              "       width=\"24px\">\n",
              "    <path d=\"M0 0h24v24H0V0z\" fill=\"none\"/>\n",
              "    <path d=\"M18.56 5.44l.94 2.06.94-2.06 2.06-.94-2.06-.94-.94-2.06-.94 2.06-2.06.94zm-11 1L8.5 8.5l.94-2.06 2.06-.94-2.06-.94L8.5 2.5l-.94 2.06-2.06.94zm10 10l.94 2.06.94-2.06 2.06-.94-2.06-.94-.94-2.06-.94 2.06-2.06.94z\"/><path d=\"M17.41 7.96l-1.37-1.37c-.4-.4-.92-.59-1.43-.59-.52 0-1.04.2-1.43.59L10.3 9.45l-7.72 7.72c-.78.78-.78 2.05 0 2.83L4 21.41c.39.39.9.59 1.41.59.51 0 1.02-.2 1.41-.59l7.78-7.78 2.81-2.81c.8-.78.8-2.07 0-2.86zM5.41 20L4 18.59l7.72-7.72 1.47 1.35L5.41 20z\"/>\n",
              "  </svg>\n",
              "      </button>\n",
              "      \n",
              "  <style>\n",
              "    .colab-df-container {\n",
              "      display:flex;\n",
              "      flex-wrap:wrap;\n",
              "      gap: 12px;\n",
              "    }\n",
              "\n",
              "    .colab-df-convert {\n",
              "      background-color: #E8F0FE;\n",
              "      border: none;\n",
              "      border-radius: 50%;\n",
              "      cursor: pointer;\n",
              "      display: none;\n",
              "      fill: #1967D2;\n",
              "      height: 32px;\n",
              "      padding: 0 0 0 0;\n",
              "      width: 32px;\n",
              "    }\n",
              "\n",
              "    .colab-df-convert:hover {\n",
              "      background-color: #E2EBFA;\n",
              "      box-shadow: 0px 1px 2px rgba(60, 64, 67, 0.3), 0px 1px 3px 1px rgba(60, 64, 67, 0.15);\n",
              "      fill: #174EA6;\n",
              "    }\n",
              "\n",
              "    [theme=dark] .colab-df-convert {\n",
              "      background-color: #3B4455;\n",
              "      fill: #D2E3FC;\n",
              "    }\n",
              "\n",
              "    [theme=dark] .colab-df-convert:hover {\n",
              "      background-color: #434B5C;\n",
              "      box-shadow: 0px 1px 3px 1px rgba(0, 0, 0, 0.15);\n",
              "      filter: drop-shadow(0px 1px 2px rgba(0, 0, 0, 0.3));\n",
              "      fill: #FFFFFF;\n",
              "    }\n",
              "  </style>\n",
              "\n",
              "      <script>\n",
              "        const buttonEl =\n",
              "          document.querySelector('#df-e6612c9c-5713-40cd-bf46-5250b74a0add button.colab-df-convert');\n",
              "        buttonEl.style.display =\n",
              "          google.colab.kernel.accessAllowed ? 'block' : 'none';\n",
              "\n",
              "        async function convertToInteractive(key) {\n",
              "          const element = document.querySelector('#df-e6612c9c-5713-40cd-bf46-5250b74a0add');\n",
              "          const dataTable =\n",
              "            await google.colab.kernel.invokeFunction('convertToInteractive',\n",
              "                                                     [key], {});\n",
              "          if (!dataTable) return;\n",
              "\n",
              "          const docLinkHtml = 'Like what you see? Visit the ' +\n",
              "            '<a target=\"_blank\" href=https://colab.research.google.com/notebooks/data_table.ipynb>data table notebook</a>'\n",
              "            + ' to learn more about interactive tables.';\n",
              "          element.innerHTML = '';\n",
              "          dataTable['output_type'] = 'display_data';\n",
              "          await google.colab.output.renderOutput(dataTable, element);\n",
              "          const docLink = document.createElement('div');\n",
              "          docLink.innerHTML = docLinkHtml;\n",
              "          element.appendChild(docLink);\n",
              "        }\n",
              "      </script>\n",
              "    </div>\n",
              "  </div>\n",
              "  "
            ]
          },
          "metadata": {},
          "execution_count": 66
        }
      ]
    },
    {
      "cell_type": "markdown",
      "source": [
        "- En esta regla tenemos que la probalidad de que una persona escuche \"Congratulations\" habiendo escuchado \"Mask Off\" y \"HUMBLE.\" es de 59%.\n",
        "- Además, la probabilidad de escuchar las 3 canciones juntas es 14.4 mayor que escuchar solo \"Congratulations\".\n",
        "- En cuanto a los gustos musicales las 3 canciones pertenecen al genero de Hip-hop/rap. "
      ],
      "metadata": {
        "id": "d6jf7JyMfsns"
      }
    },
    {
      "cell_type": "code",
      "source": [
        "by_confidence[8:9]"
      ],
      "metadata": {
        "colab": {
          "base_uri": "https://localhost:8080/",
          "height": 81
        },
        "id": "V3Z7iV1Zftz1",
        "outputId": "fd776390-dce0-4339-864b-84e036a6cc4a"
      },
      "execution_count": 67,
      "outputs": [
        {
          "output_type": "execute_result",
          "data": {
            "text/plain": [
              "                                                 Rule  Support  Confidence  \\\n",
              "10  {'HUMBLE.', 'Congratulations'} => {'XO TOUR Ll...   0.0128      0.5981   \n",
              "\n",
              "       Lift  \n",
              "10  18.1252  "
            ],
            "text/html": [
              "\n",
              "  <div id=\"df-548c4b80-44c9-481a-8f7c-2a1123bb890b\">\n",
              "    <div class=\"colab-df-container\">\n",
              "      <div>\n",
              "<style scoped>\n",
              "    .dataframe tbody tr th:only-of-type {\n",
              "        vertical-align: middle;\n",
              "    }\n",
              "\n",
              "    .dataframe tbody tr th {\n",
              "        vertical-align: top;\n",
              "    }\n",
              "\n",
              "    .dataframe thead th {\n",
              "        text-align: right;\n",
              "    }\n",
              "</style>\n",
              "<table border=\"1\" class=\"dataframe\">\n",
              "  <thead>\n",
              "    <tr style=\"text-align: right;\">\n",
              "      <th></th>\n",
              "      <th>Rule</th>\n",
              "      <th>Support</th>\n",
              "      <th>Confidence</th>\n",
              "      <th>Lift</th>\n",
              "    </tr>\n",
              "  </thead>\n",
              "  <tbody>\n",
              "    <tr>\n",
              "      <th>10</th>\n",
              "      <td>{'HUMBLE.', 'Congratulations'} =&gt; {'XO TOUR Ll...</td>\n",
              "      <td>0.0128</td>\n",
              "      <td>0.5981</td>\n",
              "      <td>18.1252</td>\n",
              "    </tr>\n",
              "  </tbody>\n",
              "</table>\n",
              "</div>\n",
              "      <button class=\"colab-df-convert\" onclick=\"convertToInteractive('df-548c4b80-44c9-481a-8f7c-2a1123bb890b')\"\n",
              "              title=\"Convert this dataframe to an interactive table.\"\n",
              "              style=\"display:none;\">\n",
              "        \n",
              "  <svg xmlns=\"http://www.w3.org/2000/svg\" height=\"24px\"viewBox=\"0 0 24 24\"\n",
              "       width=\"24px\">\n",
              "    <path d=\"M0 0h24v24H0V0z\" fill=\"none\"/>\n",
              "    <path d=\"M18.56 5.44l.94 2.06.94-2.06 2.06-.94-2.06-.94-.94-2.06-.94 2.06-2.06.94zm-11 1L8.5 8.5l.94-2.06 2.06-.94-2.06-.94L8.5 2.5l-.94 2.06-2.06.94zm10 10l.94 2.06.94-2.06 2.06-.94-2.06-.94-.94-2.06-.94 2.06-2.06.94z\"/><path d=\"M17.41 7.96l-1.37-1.37c-.4-.4-.92-.59-1.43-.59-.52 0-1.04.2-1.43.59L10.3 9.45l-7.72 7.72c-.78.78-.78 2.05 0 2.83L4 21.41c.39.39.9.59 1.41.59.51 0 1.02-.2 1.41-.59l7.78-7.78 2.81-2.81c.8-.78.8-2.07 0-2.86zM5.41 20L4 18.59l7.72-7.72 1.47 1.35L5.41 20z\"/>\n",
              "  </svg>\n",
              "      </button>\n",
              "      \n",
              "  <style>\n",
              "    .colab-df-container {\n",
              "      display:flex;\n",
              "      flex-wrap:wrap;\n",
              "      gap: 12px;\n",
              "    }\n",
              "\n",
              "    .colab-df-convert {\n",
              "      background-color: #E8F0FE;\n",
              "      border: none;\n",
              "      border-radius: 50%;\n",
              "      cursor: pointer;\n",
              "      display: none;\n",
              "      fill: #1967D2;\n",
              "      height: 32px;\n",
              "      padding: 0 0 0 0;\n",
              "      width: 32px;\n",
              "    }\n",
              "\n",
              "    .colab-df-convert:hover {\n",
              "      background-color: #E2EBFA;\n",
              "      box-shadow: 0px 1px 2px rgba(60, 64, 67, 0.3), 0px 1px 3px 1px rgba(60, 64, 67, 0.15);\n",
              "      fill: #174EA6;\n",
              "    }\n",
              "\n",
              "    [theme=dark] .colab-df-convert {\n",
              "      background-color: #3B4455;\n",
              "      fill: #D2E3FC;\n",
              "    }\n",
              "\n",
              "    [theme=dark] .colab-df-convert:hover {\n",
              "      background-color: #434B5C;\n",
              "      box-shadow: 0px 1px 3px 1px rgba(0, 0, 0, 0.15);\n",
              "      filter: drop-shadow(0px 1px 2px rgba(0, 0, 0, 0.3));\n",
              "      fill: #FFFFFF;\n",
              "    }\n",
              "  </style>\n",
              "\n",
              "      <script>\n",
              "        const buttonEl =\n",
              "          document.querySelector('#df-548c4b80-44c9-481a-8f7c-2a1123bb890b button.colab-df-convert');\n",
              "        buttonEl.style.display =\n",
              "          google.colab.kernel.accessAllowed ? 'block' : 'none';\n",
              "\n",
              "        async function convertToInteractive(key) {\n",
              "          const element = document.querySelector('#df-548c4b80-44c9-481a-8f7c-2a1123bb890b');\n",
              "          const dataTable =\n",
              "            await google.colab.kernel.invokeFunction('convertToInteractive',\n",
              "                                                     [key], {});\n",
              "          if (!dataTable) return;\n",
              "\n",
              "          const docLinkHtml = 'Like what you see? Visit the ' +\n",
              "            '<a target=\"_blank\" href=https://colab.research.google.com/notebooks/data_table.ipynb>data table notebook</a>'\n",
              "            + ' to learn more about interactive tables.';\n",
              "          element.innerHTML = '';\n",
              "          dataTable['output_type'] = 'display_data';\n",
              "          await google.colab.output.renderOutput(dataTable, element);\n",
              "          const docLink = document.createElement('div');\n",
              "          docLink.innerHTML = docLinkHtml;\n",
              "          element.appendChild(docLink);\n",
              "        }\n",
              "      </script>\n",
              "    </div>\n",
              "  </div>\n",
              "  "
            ]
          },
          "metadata": {},
          "execution_count": 67
        }
      ]
    },
    {
      "cell_type": "markdown",
      "source": [
        "- En esta regla tenemos que la probalidad de que una persona escuche \"XO TOUR Llif3\" habiendo escuchado \"HUMBLE. y Congratulations\" tambien es de 59%.\n",
        "- Además, la probabilidad de escuchar las 3 canciones juntas es 18.1 mayor que escuchar solo \"XO TOUR Llif3\".\n",
        "- En cuanto a los gustos musicales las 3 canciones pertenecen al genero de Hip-hop/rap, al igual que la regla anterior las 3 canciones pertenecen a diferentes artistas."
      ],
      "metadata": {
        "id": "eOYr7EwiieT9"
      }
    },
    {
      "cell_type": "markdown",
      "source": [
        "### Conclusión\n",
        "Todos estos resultado coinciden con la realidad de personas cuyos\n",
        "gustos musicales estan relacionados al hip- hop, y, al pertenecer estas \n",
        "canciones a ese genero, tiene mucho sentido que se encuentren juntas en una\n",
        "playlist."
      ],
      "metadata": {
        "id": "xjvZwK-msXLP"
      }
    }
  ]
}